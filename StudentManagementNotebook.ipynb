{
 "cells": [
  {
   "cell_type": "code",
   "execution_count": 1,
   "metadata": {},
   "outputs": [],
   "source": [
    "# Problem Statement\n",
    "# You have been hired by the University of Data Science to manage their students'\n",
    "# records. Your job is to create the student management system for the university.\n",
    "# Let's try to build the system using basic Python operations."
   ]
  },
  {
   "cell_type": "code",
   "execution_count": 2,
   "metadata": {},
   "outputs": [
    {
     "name": "stdout",
     "output_type": "stream",
     "text": [
      "['Geoffrey Hinton', 'Andrew Ng', 'Sebastian Raschka', 'Yoshua Bengio', 'Hilary Mason', 'Corinna Cortes', 'Peter Warden']\n",
      "345\n",
      "0.69\n",
      "History\n",
      "Andrew Ng\n",
      "certificate_name is NG ANDREW\n"
     ]
    }
   ],
   "source": [
    "# Code starts here\n",
    "\n",
    "# Create the lists \n",
    "class_1=['Geoffrey Hinton','Andrew Ng','Sebastian Raschka','Yoshua Bengio']\n",
    "class_2=['Hilary Mason','Carla Gentry','Corinna Cortes']\n",
    "\n",
    "# Concatenate both the strings\n",
    "new_class=class_1+class_2\n",
    "# print(new_class)\n",
    "\n",
    "\n",
    "# Append the list\n",
    "new_class.append('Peter Warden')\n",
    "# print(new_class)\n",
    "\n",
    "# Print updated list\n",
    "\n",
    "\n",
    "# Remove the element from the list\n",
    "new_class.remove('Carla Gentry')\n",
    "print(new_class)\n",
    "\n",
    "# Print the list\n",
    "\n",
    "\n",
    "\n",
    "# Create the Dictionary\n",
    "courses={'Math':\t65,\n",
    "'English':\t70,\n",
    "'History':\t80,\n",
    "'French':\t70,\n",
    "'Science':\t60}\n",
    "\n",
    "\n",
    "# Slice the dict and stores  the all subjects marks in variable\n",
    "total=courses['Math']+courses['English']+courses['History']+courses['French']+courses['Science']\n",
    "print(total)\n",
    "\n",
    "# Store the all the subject in one variable `Total`\n",
    "\n",
    "\n",
    "# Print the total\n",
    "\n",
    "# Insert percentage formula\n",
    "\n",
    "# Print the percentage\n",
    "percentage=total/500\n",
    "print(percentage)\n",
    "\n",
    "\n",
    "\n",
    "\n",
    "# Create the Dictionary\n",
    " \n",
    "mathematics={'Geoffrey Hinton':78,'Andrew Ng':95,'Sebastian Raschka':65,'Yoshua Benjio':50,'Hilary Mason':70,'Corinna Cortes':66,'Peter Warden':75}\n",
    "\n",
    "\n",
    "# Given string\n",
    "max_marks_scored = max(courses,key = courses.get)\n",
    "print (max_marks_scored)\n",
    "\n",
    "\n",
    "# Create variable first_name \n",
    "topper= max(mathematics,key = mathematics.get)\n",
    "print (topper)\n",
    "last_name=topper.split()[1]\n",
    "first_name=topper.split()[0]\n",
    "full_name=last_name+' '+first_name\n",
    "certificate_name=full_name.upper()\n",
    "print(\"certificate_name is \"+certificate_name)\n",
    "\n",
    "\n",
    "# Create variable Last_name and store last two element in the list\n",
    "\n",
    "# Concatenate the string\n",
    "\n",
    "# print the full_name\n",
    "\n",
    "# print the name in upper case\n",
    "\n",
    "# Code ends here"
   ]
  },
  {
   "cell_type": "code",
   "execution_count": null,
   "metadata": {},
   "outputs": [],
   "source": []
  }
 ],
 "metadata": {
  "kernelspec": {
   "display_name": "Python 3",
   "language": "python",
   "name": "python3"
  },
  "language_info": {
   "codemirror_mode": {
    "name": "ipython",
    "version": 3
   },
   "file_extension": ".py",
   "mimetype": "text/x-python",
   "name": "python",
   "nbconvert_exporter": "python",
   "pygments_lexer": "ipython3",
   "version": "3.8.5"
  }
 },
 "nbformat": 4,
 "nbformat_minor": 4
}
